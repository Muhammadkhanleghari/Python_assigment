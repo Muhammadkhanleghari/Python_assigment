{
 "cells": [
  {
   "cell_type": "code",
   "execution_count": null,
   "id": "5300c97f-be6e-4bee-bbe8-cf3a6682e98c",
   "metadata": {},
   "outputs": [],
   "source": []
  },
  {
   "cell_type": "code",
   "execution_count": 1,
   "id": "1c172e56-d45e-47de-b0fa-9bbe1d856320",
   "metadata": {},
   "outputs": [],
   "source": [
    "import pandas as pd\n",
    "import numpy as np\n",
    "from sklearn.model_selection import train_test_split\n",
    "from sklearn.linear_model import LinearRegression\n",
    "import matplotlib.pyplot as plt\n"
   ]
  },
  {
   "cell_type": "code",
   "execution_count": 2,
   "id": "b0c3c142-0a2b-4c97-bb0a-39da78e7b18e",
   "metadata": {},
   "outputs": [],
   "source": [
    "\n",
    "data = pd.read_csv('Real estate.csv')\n"
   ]
  },
  {
   "cell_type": "code",
   "execution_count": 3,
   "id": "2a06ee37-8cd2-4ef6-8a4f-28373e12432c",
   "metadata": {},
   "outputs": [
    {
     "name": "stdout",
     "output_type": "stream",
     "text": [
      "   No  X1 transaction date  X2 house age  \\\n",
      "0   1             2012.917          32.0   \n",
      "1   2             2012.917          19.5   \n",
      "2   3             2013.583          13.3   \n",
      "3   4             2013.500          13.3   \n",
      "4   5             2012.833           5.0   \n",
      "\n",
      "   X3 distance to the nearest MRT station  X4 number of convenience stores  \\\n",
      "0                                84.87882                               10   \n",
      "1                               306.59470                                9   \n",
      "2                               561.98450                                5   \n",
      "3                               561.98450                                5   \n",
      "4                               390.56840                                5   \n",
      "\n",
      "   X5 latitude  X6 longitude  Y house price of unit area  \n",
      "0     24.98298     121.54024                        37.9  \n",
      "1     24.98034     121.53951                        42.2  \n",
      "2     24.98746     121.54391                        47.3  \n",
      "3     24.98746     121.54391                        54.8  \n",
      "4     24.97937     121.54245                        43.1  \n",
      "               No  X1 transaction date  X2 house age  \\\n",
      "count  414.000000           414.000000    414.000000   \n",
      "mean   207.500000          2013.148971     17.712560   \n",
      "std    119.655756             0.281967     11.392485   \n",
      "min      1.000000          2012.667000      0.000000   \n",
      "25%    104.250000          2012.917000      9.025000   \n",
      "50%    207.500000          2013.167000     16.100000   \n",
      "75%    310.750000          2013.417000     28.150000   \n",
      "max    414.000000          2013.583000     43.800000   \n",
      "\n",
      "       X3 distance to the nearest MRT station  \\\n",
      "count                              414.000000   \n",
      "mean                              1083.885689   \n",
      "std                               1262.109595   \n",
      "min                                 23.382840   \n",
      "25%                                289.324800   \n",
      "50%                                492.231300   \n",
      "75%                               1454.279000   \n",
      "max                               6488.021000   \n",
      "\n",
      "       X4 number of convenience stores  X5 latitude  X6 longitude  \\\n",
      "count                       414.000000   414.000000    414.000000   \n",
      "mean                          4.094203    24.969030    121.533361   \n",
      "std                           2.945562     0.012410      0.015347   \n",
      "min                           0.000000    24.932070    121.473530   \n",
      "25%                           1.000000    24.963000    121.528085   \n",
      "50%                           4.000000    24.971100    121.538630   \n",
      "75%                           6.000000    24.977455    121.543305   \n",
      "max                          10.000000    25.014590    121.566270   \n",
      "\n",
      "       Y house price of unit area  \n",
      "count                  414.000000  \n",
      "mean                    37.980193  \n",
      "std                     13.606488  \n",
      "min                      7.600000  \n",
      "25%                     27.700000  \n",
      "50%                     38.450000  \n",
      "75%                     46.600000  \n",
      "max                    117.500000  \n",
      "No                                        0\n",
      "X1 transaction date                       0\n",
      "X2 house age                              0\n",
      "X3 distance to the nearest MRT station    0\n",
      "X4 number of convenience stores           0\n",
      "X5 latitude                               0\n",
      "X6 longitude                              0\n",
      "Y house price of unit area                0\n",
      "dtype: int64\n"
     ]
    }
   ],
   "source": [
    "# Display the first few rows of the dataset\n",
    "print(data.head())\n",
    "\n",
    "# Summary statistics of the dataset\n",
    "print(data.describe())\n",
    "\n",
    "# Check for missing values\n",
    "print(data.isnull().sum())\n"
   ]
  },
  {
   "cell_type": "code",
   "execution_count": null,
   "id": "3be3cbeb-bf7b-4520-af50-1ab2fb0ded03",
   "metadata": {},
   "outputs": [],
   "source": [
    "# Split the dataset into training and testing sets\n",
    "X_train, X_test, y_train, y_test = train_test_split(X, y, test_size=0.2, random_state=42)\n",
    "\n",
    "# Train the linear regression model\n",
    "model = LinearRegression()\n",
    "model.fit(X_train, y_train)\n"
   ]
  },
  {
   "cell_type": "code",
   "execution_count": null,
   "id": "6b497204-43f4-474f-8132-d878a6c43301",
   "metadata": {},
   "outputs": [],
   "source": [
    "# Predict using the test set\n",
    "y_pred = model.predict(X_test)\n"
   ]
  },
  {
   "cell_type": "code",
   "execution_count": null,
   "id": "392a131d-c40b-45ef-aa65-5566331f313a",
   "metadata": {},
   "outputs": [],
   "source": [
    "# Plot the actual vs predicted values for the test set\n",
    "plt.scatter(y_test, y_pred)\n",
    "plt.xlabel('Actual House Price')\n",
    "plt.ylabel('Predicted House Price')\n",
    "plt.title('Actual vs Predicted House Price')\n",
    "plt.show()\n"
   ]
  },
  {
   "cell_type": "code",
   "execution_count": null,
   "id": "664a9614-85e4-49f5-ae12-446de90b2903",
   "metadata": {},
   "outputs": [],
   "source": []
  }
 ],
 "metadata": {
  "kernelspec": {
   "display_name": "Python 3 (ipykernel)",
   "language": "python",
   "name": "python3"
  },
  "language_info": {
   "codemirror_mode": {
    "name": "ipython",
    "version": 3
   },
   "file_extension": ".py",
   "mimetype": "text/x-python",
   "name": "python",
   "nbconvert_exporter": "python",
   "pygments_lexer": "ipython3",
   "version": "3.11.7"
  }
 },
 "nbformat": 4,
 "nbformat_minor": 5
}
